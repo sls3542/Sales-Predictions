{
  "nbformat": 4,
  "nbformat_minor": 0,
  "metadata": {
    "colab": {
      "provenance": [],
      "mount_file_id": "1ULMwW53MiyadG-fgLDwT-3M6-wlfbzGE",
      "authorship_tag": "ABX9TyPXb+0HHoJbZIUyW/LjHg4W",
      "include_colab_link": true
    },
    "kernelspec": {
      "name": "python3",
      "display_name": "Python 3"
    },
    "language_info": {
      "name": "python"
    }
  },
  "cells": [
    {
      "cell_type": "markdown",
      "metadata": {
        "id": "view-in-github",
        "colab_type": "text"
      },
      "source": [
        "<a href=\"https://colab.research.google.com/github/sls3542/Sales-Predictions/blob/main/Project1Final.ipynb\" target=\"_parent\"><img src=\"https://colab.research.google.com/assets/colab-badge.svg\" alt=\"Open In Colab\"/></a>"
      ]
    },
    {
      "cell_type": "code",
      "execution_count": 1,
      "metadata": {
        "id": "WEVJVi8UT7f-"
      },
      "outputs": [],
      "source": [
        "import pandas as pd\n",
        "import numpy as np\n",
        "from sklearn.model_selection import train_test_split\n",
        "from sklearn.compose import make_column_selector, make_column_transformer\n",
        "from sklearn.preprocessing import StandardScaler, OneHotEncoder, \\\n",
        "OrdinalEncoder\n",
        "from sklearn.pipeline import make_pipeline\n",
        "from sklearn.impute import SimpleImputer\n",
        "from sklearn import set_config\n",
        "set_config(display='diagram')"
      ]
    },
    {
      "cell_type": "code",
      "source": [
        "from google.colab import drive\n",
        "drive.mount('/content/drive')"
      ],
      "metadata": {
        "colab": {
          "base_uri": "https://localhost:8080/"
        },
        "id": "jtGVOgdfUeyp",
        "outputId": "f78b7301-0d01-49c2-ae4e-290106cf1569"
      },
      "execution_count": 2,
      "outputs": [
        {
          "output_type": "stream",
          "name": "stdout",
          "text": [
            "Mounted at /content/drive\n"
          ]
        }
      ]
    },
    {
      "cell_type": "code",
      "source": [
        "filename = '/content/drive/MyDrive/Intermediate Machine Learning/sales_predictions (1).csv'"
      ],
      "metadata": {
        "id": "pX1qeNWfU3lM"
      },
      "execution_count": 3,
      "outputs": []
    },
    {
      "cell_type": "code",
      "source": [
        "df = pd.read_csv(filename)\n",
        "df.info()"
      ],
      "metadata": {
        "colab": {
          "base_uri": "https://localhost:8080/"
        },
        "id": "-pDJMaSvUOSU",
        "outputId": "6491b51c-2171-407a-fc0a-2e6bec176ce6"
      },
      "execution_count": 4,
      "outputs": [
        {
          "output_type": "stream",
          "name": "stdout",
          "text": [
            "<class 'pandas.core.frame.DataFrame'>\n",
            "RangeIndex: 8523 entries, 0 to 8522\n",
            "Data columns (total 12 columns):\n",
            " #   Column                     Non-Null Count  Dtype  \n",
            "---  ------                     --------------  -----  \n",
            " 0   Item_Identifier            8523 non-null   object \n",
            " 1   Item_Weight                7060 non-null   float64\n",
            " 2   Item_Fat_Content           8523 non-null   object \n",
            " 3   Item_Visibility            8523 non-null   float64\n",
            " 4   Item_Type                  8523 non-null   object \n",
            " 5   Item_MRP                   8523 non-null   float64\n",
            " 6   Outlet_Identifier          8523 non-null   object \n",
            " 7   Outlet_Establishment_Year  8523 non-null   int64  \n",
            " 8   Outlet_Size                6113 non-null   object \n",
            " 9   Outlet_Location_Type       8523 non-null   object \n",
            " 10  Outlet_Type                8523 non-null   object \n",
            " 11  Item_Outlet_Sales          8523 non-null   float64\n",
            "dtypes: float64(4), int64(1), object(7)\n",
            "memory usage: 799.2+ KB\n"
          ]
        }
      ]
    },
    {
      "cell_type": "code",
      "source": [
        "df.isna().sum()"
      ],
      "metadata": {
        "colab": {
          "base_uri": "https://localhost:8080/"
        },
        "id": "RQ-VmUGyVklY",
        "outputId": "eff79129-7324-40f3-da6b-986bbadd519d"
      },
      "execution_count": 5,
      "outputs": [
        {
          "output_type": "execute_result",
          "data": {
            "text/plain": [
              "Item_Identifier                 0\n",
              "Item_Weight                  1463\n",
              "Item_Fat_Content                0\n",
              "Item_Visibility                 0\n",
              "Item_Type                       0\n",
              "Item_MRP                        0\n",
              "Outlet_Identifier               0\n",
              "Outlet_Establishment_Year       0\n",
              "Outlet_Size                  2410\n",
              "Outlet_Location_Type            0\n",
              "Outlet_Type                     0\n",
              "Item_Outlet_Sales               0\n",
              "dtype: int64"
            ]
          },
          "metadata": {},
          "execution_count": 5
        }
      ]
    },
    {
      "cell_type": "code",
      "source": [
        "df['Item_Fat_Content'].value_counts()"
      ],
      "metadata": {
        "colab": {
          "base_uri": "https://localhost:8080/"
        },
        "id": "YddoNGoWVmR2",
        "outputId": "5a22c514-9062-4654-99d0-ae90920dbe6a"
      },
      "execution_count": 6,
      "outputs": [
        {
          "output_type": "execute_result",
          "data": {
            "text/plain": [
              "Low Fat    5089\n",
              "Regular    2889\n",
              "LF          316\n",
              "reg         117\n",
              "low fat     112\n",
              "Name: Item_Fat_Content, dtype: int64"
            ]
          },
          "metadata": {},
          "execution_count": 6
        }
      ]
    },
    {
      "cell_type": "code",
      "source": [
        "df['Item_Fat_Content'] = df['Item_Fat_Content'].replace('LF', 'Low Fat')"
      ],
      "metadata": {
        "id": "3dMVBHBFVtI6"
      },
      "execution_count": 7,
      "outputs": []
    },
    {
      "cell_type": "code",
      "source": [
        "df['Item_Fat_Content'] = df['Item_Fat_Content'].replace('reg', 'Regular')"
      ],
      "metadata": {
        "id": "IRmcKQQrVyGT"
      },
      "execution_count": 8,
      "outputs": []
    },
    {
      "cell_type": "code",
      "source": [
        "df['Item_Fat_Content'] = df['Item_Fat_Content'].replace('low fat', 'Low Fat')"
      ],
      "metadata": {
        "id": "oAtNTJctV10q"
      },
      "execution_count": 9,
      "outputs": []
    },
    {
      "cell_type": "code",
      "source": [
        "df['Item_Fat_Content'].value_counts()"
      ],
      "metadata": {
        "colab": {
          "base_uri": "https://localhost:8080/"
        },
        "id": "gC-ar6WaV7fI",
        "outputId": "cbf86817-d85a-4e45-f7a8-8117263c15f7"
      },
      "execution_count": 10,
      "outputs": [
        {
          "output_type": "execute_result",
          "data": {
            "text/plain": [
              "Low Fat    5517\n",
              "Regular    3006\n",
              "Name: Item_Fat_Content, dtype: int64"
            ]
          },
          "metadata": {},
          "execution_count": 10
        }
      ]
    },
    {
      "cell_type": "code",
      "source": [
        "target = 'Item_Outlet_Sales'\n",
        "X=df.drop(columns=target)\n",
        "y=df[target]\n",
        "\n",
        "X_train, X_test, y_train, y_test = train_test_split(X,y,random_state=42)"
      ],
      "metadata": {
        "id": "mEPTQB_qV8uv"
      },
      "execution_count": 11,
      "outputs": []
    },
    {
      "cell_type": "code",
      "source": [
        "X_train.head()"
      ],
      "metadata": {
        "colab": {
          "base_uri": "https://localhost:8080/",
          "height": 357
        },
        "id": "dUoKlpy_WWyU",
        "outputId": "7f96601d-d2d2-4650-ec1c-f62a3e3d909e"
      },
      "execution_count": 12,
      "outputs": [
        {
          "output_type": "execute_result",
          "data": {
            "text/plain": [
              "     Item_Identifier  Item_Weight Item_Fat_Content  Item_Visibility  \\\n",
              "4776           NCG06       16.350          Low Fat         0.029565   \n",
              "7510           FDV57       15.250          Regular         0.000000   \n",
              "5828           FDM27       12.350          Regular         0.158716   \n",
              "5327           FDG24        7.975          Low Fat         0.014628   \n",
              "4810           FDD05       19.350          Low Fat         0.016645   \n",
              "\n",
              "         Item_Type  Item_MRP Outlet_Identifier  Outlet_Establishment_Year  \\\n",
              "4776     Household  256.4646            OUT018                       2009   \n",
              "7510   Snack Foods  179.7660            OUT018                       2009   \n",
              "5828          Meat  157.2946            OUT049                       1999   \n",
              "5327  Baking Goods   82.3250            OUT035                       2004   \n",
              "4810  Frozen Foods  120.9098            OUT045                       2002   \n",
              "\n",
              "     Outlet_Size Outlet_Location_Type        Outlet_Type  \n",
              "4776      Medium               Tier 3  Supermarket Type2  \n",
              "7510      Medium               Tier 3  Supermarket Type2  \n",
              "5828      Medium               Tier 1  Supermarket Type1  \n",
              "5327       Small               Tier 2  Supermarket Type1  \n",
              "4810         NaN               Tier 2  Supermarket Type1  "
            ],
            "text/html": [
              "\n",
              "  <div id=\"df-5e958f67-0d0c-4016-9589-2959038e561f\">\n",
              "    <div class=\"colab-df-container\">\n",
              "      <div>\n",
              "<style scoped>\n",
              "    .dataframe tbody tr th:only-of-type {\n",
              "        vertical-align: middle;\n",
              "    }\n",
              "\n",
              "    .dataframe tbody tr th {\n",
              "        vertical-align: top;\n",
              "    }\n",
              "\n",
              "    .dataframe thead th {\n",
              "        text-align: right;\n",
              "    }\n",
              "</style>\n",
              "<table border=\"1\" class=\"dataframe\">\n",
              "  <thead>\n",
              "    <tr style=\"text-align: right;\">\n",
              "      <th></th>\n",
              "      <th>Item_Identifier</th>\n",
              "      <th>Item_Weight</th>\n",
              "      <th>Item_Fat_Content</th>\n",
              "      <th>Item_Visibility</th>\n",
              "      <th>Item_Type</th>\n",
              "      <th>Item_MRP</th>\n",
              "      <th>Outlet_Identifier</th>\n",
              "      <th>Outlet_Establishment_Year</th>\n",
              "      <th>Outlet_Size</th>\n",
              "      <th>Outlet_Location_Type</th>\n",
              "      <th>Outlet_Type</th>\n",
              "    </tr>\n",
              "  </thead>\n",
              "  <tbody>\n",
              "    <tr>\n",
              "      <th>4776</th>\n",
              "      <td>NCG06</td>\n",
              "      <td>16.350</td>\n",
              "      <td>Low Fat</td>\n",
              "      <td>0.029565</td>\n",
              "      <td>Household</td>\n",
              "      <td>256.4646</td>\n",
              "      <td>OUT018</td>\n",
              "      <td>2009</td>\n",
              "      <td>Medium</td>\n",
              "      <td>Tier 3</td>\n",
              "      <td>Supermarket Type2</td>\n",
              "    </tr>\n",
              "    <tr>\n",
              "      <th>7510</th>\n",
              "      <td>FDV57</td>\n",
              "      <td>15.250</td>\n",
              "      <td>Regular</td>\n",
              "      <td>0.000000</td>\n",
              "      <td>Snack Foods</td>\n",
              "      <td>179.7660</td>\n",
              "      <td>OUT018</td>\n",
              "      <td>2009</td>\n",
              "      <td>Medium</td>\n",
              "      <td>Tier 3</td>\n",
              "      <td>Supermarket Type2</td>\n",
              "    </tr>\n",
              "    <tr>\n",
              "      <th>5828</th>\n",
              "      <td>FDM27</td>\n",
              "      <td>12.350</td>\n",
              "      <td>Regular</td>\n",
              "      <td>0.158716</td>\n",
              "      <td>Meat</td>\n",
              "      <td>157.2946</td>\n",
              "      <td>OUT049</td>\n",
              "      <td>1999</td>\n",
              "      <td>Medium</td>\n",
              "      <td>Tier 1</td>\n",
              "      <td>Supermarket Type1</td>\n",
              "    </tr>\n",
              "    <tr>\n",
              "      <th>5327</th>\n",
              "      <td>FDG24</td>\n",
              "      <td>7.975</td>\n",
              "      <td>Low Fat</td>\n",
              "      <td>0.014628</td>\n",
              "      <td>Baking Goods</td>\n",
              "      <td>82.3250</td>\n",
              "      <td>OUT035</td>\n",
              "      <td>2004</td>\n",
              "      <td>Small</td>\n",
              "      <td>Tier 2</td>\n",
              "      <td>Supermarket Type1</td>\n",
              "    </tr>\n",
              "    <tr>\n",
              "      <th>4810</th>\n",
              "      <td>FDD05</td>\n",
              "      <td>19.350</td>\n",
              "      <td>Low Fat</td>\n",
              "      <td>0.016645</td>\n",
              "      <td>Frozen Foods</td>\n",
              "      <td>120.9098</td>\n",
              "      <td>OUT045</td>\n",
              "      <td>2002</td>\n",
              "      <td>NaN</td>\n",
              "      <td>Tier 2</td>\n",
              "      <td>Supermarket Type1</td>\n",
              "    </tr>\n",
              "  </tbody>\n",
              "</table>\n",
              "</div>\n",
              "      <button class=\"colab-df-convert\" onclick=\"convertToInteractive('df-5e958f67-0d0c-4016-9589-2959038e561f')\"\n",
              "              title=\"Convert this dataframe to an interactive table.\"\n",
              "              style=\"display:none;\">\n",
              "        \n",
              "  <svg xmlns=\"http://www.w3.org/2000/svg\" height=\"24px\"viewBox=\"0 0 24 24\"\n",
              "       width=\"24px\">\n",
              "    <path d=\"M0 0h24v24H0V0z\" fill=\"none\"/>\n",
              "    <path d=\"M18.56 5.44l.94 2.06.94-2.06 2.06-.94-2.06-.94-.94-2.06-.94 2.06-2.06.94zm-11 1L8.5 8.5l.94-2.06 2.06-.94-2.06-.94L8.5 2.5l-.94 2.06-2.06.94zm10 10l.94 2.06.94-2.06 2.06-.94-2.06-.94-.94-2.06-.94 2.06-2.06.94z\"/><path d=\"M17.41 7.96l-1.37-1.37c-.4-.4-.92-.59-1.43-.59-.52 0-1.04.2-1.43.59L10.3 9.45l-7.72 7.72c-.78.78-.78 2.05 0 2.83L4 21.41c.39.39.9.59 1.41.59.51 0 1.02-.2 1.41-.59l7.78-7.78 2.81-2.81c.8-.78.8-2.07 0-2.86zM5.41 20L4 18.59l7.72-7.72 1.47 1.35L5.41 20z\"/>\n",
              "  </svg>\n",
              "      </button>\n",
              "      \n",
              "  <style>\n",
              "    .colab-df-container {\n",
              "      display:flex;\n",
              "      flex-wrap:wrap;\n",
              "      gap: 12px;\n",
              "    }\n",
              "\n",
              "    .colab-df-convert {\n",
              "      background-color: #E8F0FE;\n",
              "      border: none;\n",
              "      border-radius: 50%;\n",
              "      cursor: pointer;\n",
              "      display: none;\n",
              "      fill: #1967D2;\n",
              "      height: 32px;\n",
              "      padding: 0 0 0 0;\n",
              "      width: 32px;\n",
              "    }\n",
              "\n",
              "    .colab-df-convert:hover {\n",
              "      background-color: #E2EBFA;\n",
              "      box-shadow: 0px 1px 2px rgba(60, 64, 67, 0.3), 0px 1px 3px 1px rgba(60, 64, 67, 0.15);\n",
              "      fill: #174EA6;\n",
              "    }\n",
              "\n",
              "    [theme=dark] .colab-df-convert {\n",
              "      background-color: #3B4455;\n",
              "      fill: #D2E3FC;\n",
              "    }\n",
              "\n",
              "    [theme=dark] .colab-df-convert:hover {\n",
              "      background-color: #434B5C;\n",
              "      box-shadow: 0px 1px 3px 1px rgba(0, 0, 0, 0.15);\n",
              "      filter: drop-shadow(0px 1px 2px rgba(0, 0, 0, 0.3));\n",
              "      fill: #FFFFFF;\n",
              "    }\n",
              "  </style>\n",
              "\n",
              "      <script>\n",
              "        const buttonEl =\n",
              "          document.querySelector('#df-5e958f67-0d0c-4016-9589-2959038e561f button.colab-df-convert');\n",
              "        buttonEl.style.display =\n",
              "          google.colab.kernel.accessAllowed ? 'block' : 'none';\n",
              "\n",
              "        async function convertToInteractive(key) {\n",
              "          const element = document.querySelector('#df-5e958f67-0d0c-4016-9589-2959038e561f');\n",
              "          const dataTable =\n",
              "            await google.colab.kernel.invokeFunction('convertToInteractive',\n",
              "                                                     [key], {});\n",
              "          if (!dataTable) return;\n",
              "\n",
              "          const docLinkHtml = 'Like what you see? Visit the ' +\n",
              "            '<a target=\"_blank\" href=https://colab.research.google.com/notebooks/data_table.ipynb>data table notebook</a>'\n",
              "            + ' to learn more about interactive tables.';\n",
              "          element.innerHTML = '';\n",
              "          dataTable['output_type'] = 'display_data';\n",
              "          await google.colab.output.renderOutput(dataTable, element);\n",
              "          const docLink = document.createElement('div');\n",
              "          docLink.innerHTML = docLinkHtml;\n",
              "          element.appendChild(docLink);\n",
              "        }\n",
              "      </script>\n",
              "    </div>\n",
              "  </div>\n",
              "  "
            ]
          },
          "metadata": {},
          "execution_count": 12
        }
      ]
    },
    {
      "cell_type": "code",
      "source": [
        "cat_selector = make_column_selector(dtype_include='object')\n",
        "\n",
        "cat_cols = cat_selector(X_train)\n",
        "cat_cols"
      ],
      "metadata": {
        "colab": {
          "base_uri": "https://localhost:8080/"
        },
        "id": "c5ticz6WWZ-w",
        "outputId": "2081cfe2-eeee-4d03-cc0d-8ea21c5ded15"
      },
      "execution_count": 13,
      "outputs": [
        {
          "output_type": "execute_result",
          "data": {
            "text/plain": [
              "['Item_Identifier',\n",
              " 'Item_Fat_Content',\n",
              " 'Item_Type',\n",
              " 'Outlet_Identifier',\n",
              " 'Outlet_Size',\n",
              " 'Outlet_Location_Type',\n",
              " 'Outlet_Type']"
            ]
          },
          "metadata": {},
          "execution_count": 13
        }
      ]
    },
    {
      "cell_type": "code",
      "source": [
        "num_selector = make_column_selector(dtype_include='number')\n",
        "num_cols = num_selector(X_train)\n",
        "num_cols"
      ],
      "metadata": {
        "colab": {
          "base_uri": "https://localhost:8080/"
        },
        "id": "jHKuQx6kWj_u",
        "outputId": "523a2954-a7b2-4c74-8f56-7675250f090d"
      },
      "execution_count": 14,
      "outputs": [
        {
          "output_type": "execute_result",
          "data": {
            "text/plain": [
              "['Item_Weight', 'Item_Visibility', 'Item_MRP', 'Outlet_Establishment_Year']"
            ]
          },
          "metadata": {},
          "execution_count": 14
        }
      ]
    },
    {
      "cell_type": "code",
      "source": [
        "cat_selector = make_column_selector(dtype_include='object')\n",
        "num_selector = make_column_selector(dtype_include='number')"
      ],
      "metadata": {
        "id": "ocxrAmYGWohS"
      },
      "execution_count": 15,
      "outputs": []
    },
    {
      "cell_type": "code",
      "source": [
        "mean_imputer = SimpleImputer(strategy='mean')\n",
        "freq_imputer = SimpleImputer(strategy = 'most_frequent')"
      ],
      "metadata": {
        "id": "Zjc74fSrW4MB"
      },
      "execution_count": 16,
      "outputs": []
    },
    {
      "cell_type": "code",
      "source": [
        "scaler = StandardScaler()"
      ],
      "metadata": {
        "id": "yKJTT4IwW8wB"
      },
      "execution_count": 17,
      "outputs": []
    },
    {
      "cell_type": "code",
      "source": [
        "ohe = OneHotEncoder(handle_unknown='ignore', sparse=False)"
      ],
      "metadata": {
        "id": "i6bP4-mKW_sK"
      },
      "execution_count": 18,
      "outputs": []
    },
    {
      "cell_type": "code",
      "source": [
        "numpipe = make_pipeline(mean_imputer, scaler)\n",
        "numpipe"
      ],
      "metadata": {
        "colab": {
          "base_uri": "https://localhost:8080/",
          "height": 126
        },
        "id": "yQs10o7eXCGm",
        "outputId": "2d8863aa-c27b-483f-e4e0-c2867d878884"
      },
      "execution_count": 19,
      "outputs": [
        {
          "output_type": "execute_result",
          "data": {
            "text/plain": [
              "Pipeline(steps=[('simpleimputer', SimpleImputer()),\n",
              "                ('standardscaler', StandardScaler())])"
            ],
            "text/html": [
              "<style>#sk-625fa7d4-ada7-4c37-a692-a73dca47cb0b {color: black;background-color: white;}#sk-625fa7d4-ada7-4c37-a692-a73dca47cb0b pre{padding: 0;}#sk-625fa7d4-ada7-4c37-a692-a73dca47cb0b div.sk-toggleable {background-color: white;}#sk-625fa7d4-ada7-4c37-a692-a73dca47cb0b label.sk-toggleable__label {cursor: pointer;display: block;width: 100%;margin-bottom: 0;padding: 0.3em;box-sizing: border-box;text-align: center;}#sk-625fa7d4-ada7-4c37-a692-a73dca47cb0b label.sk-toggleable__label-arrow:before {content: \"▸\";float: left;margin-right: 0.25em;color: #696969;}#sk-625fa7d4-ada7-4c37-a692-a73dca47cb0b label.sk-toggleable__label-arrow:hover:before {color: black;}#sk-625fa7d4-ada7-4c37-a692-a73dca47cb0b div.sk-estimator:hover label.sk-toggleable__label-arrow:before {color: black;}#sk-625fa7d4-ada7-4c37-a692-a73dca47cb0b div.sk-toggleable__content {max-height: 0;max-width: 0;overflow: hidden;text-align: left;background-color: #f0f8ff;}#sk-625fa7d4-ada7-4c37-a692-a73dca47cb0b div.sk-toggleable__content pre {margin: 0.2em;color: black;border-radius: 0.25em;background-color: #f0f8ff;}#sk-625fa7d4-ada7-4c37-a692-a73dca47cb0b input.sk-toggleable__control:checked~div.sk-toggleable__content {max-height: 200px;max-width: 100%;overflow: auto;}#sk-625fa7d4-ada7-4c37-a692-a73dca47cb0b input.sk-toggleable__control:checked~label.sk-toggleable__label-arrow:before {content: \"▾\";}#sk-625fa7d4-ada7-4c37-a692-a73dca47cb0b div.sk-estimator input.sk-toggleable__control:checked~label.sk-toggleable__label {background-color: #d4ebff;}#sk-625fa7d4-ada7-4c37-a692-a73dca47cb0b div.sk-label input.sk-toggleable__control:checked~label.sk-toggleable__label {background-color: #d4ebff;}#sk-625fa7d4-ada7-4c37-a692-a73dca47cb0b input.sk-hidden--visually {border: 0;clip: rect(1px 1px 1px 1px);clip: rect(1px, 1px, 1px, 1px);height: 1px;margin: -1px;overflow: hidden;padding: 0;position: absolute;width: 1px;}#sk-625fa7d4-ada7-4c37-a692-a73dca47cb0b div.sk-estimator {font-family: monospace;background-color: #f0f8ff;border: 1px dotted black;border-radius: 0.25em;box-sizing: border-box;margin-bottom: 0.5em;}#sk-625fa7d4-ada7-4c37-a692-a73dca47cb0b div.sk-estimator:hover {background-color: #d4ebff;}#sk-625fa7d4-ada7-4c37-a692-a73dca47cb0b div.sk-parallel-item::after {content: \"\";width: 100%;border-bottom: 1px solid gray;flex-grow: 1;}#sk-625fa7d4-ada7-4c37-a692-a73dca47cb0b div.sk-label:hover label.sk-toggleable__label {background-color: #d4ebff;}#sk-625fa7d4-ada7-4c37-a692-a73dca47cb0b div.sk-serial::before {content: \"\";position: absolute;border-left: 1px solid gray;box-sizing: border-box;top: 2em;bottom: 0;left: 50%;}#sk-625fa7d4-ada7-4c37-a692-a73dca47cb0b div.sk-serial {display: flex;flex-direction: column;align-items: center;background-color: white;padding-right: 0.2em;padding-left: 0.2em;}#sk-625fa7d4-ada7-4c37-a692-a73dca47cb0b div.sk-item {z-index: 1;}#sk-625fa7d4-ada7-4c37-a692-a73dca47cb0b div.sk-parallel {display: flex;align-items: stretch;justify-content: center;background-color: white;}#sk-625fa7d4-ada7-4c37-a692-a73dca47cb0b div.sk-parallel::before {content: \"\";position: absolute;border-left: 1px solid gray;box-sizing: border-box;top: 2em;bottom: 0;left: 50%;}#sk-625fa7d4-ada7-4c37-a692-a73dca47cb0b div.sk-parallel-item {display: flex;flex-direction: column;position: relative;background-color: white;}#sk-625fa7d4-ada7-4c37-a692-a73dca47cb0b div.sk-parallel-item:first-child::after {align-self: flex-end;width: 50%;}#sk-625fa7d4-ada7-4c37-a692-a73dca47cb0b div.sk-parallel-item:last-child::after {align-self: flex-start;width: 50%;}#sk-625fa7d4-ada7-4c37-a692-a73dca47cb0b div.sk-parallel-item:only-child::after {width: 0;}#sk-625fa7d4-ada7-4c37-a692-a73dca47cb0b div.sk-dashed-wrapped {border: 1px dashed gray;margin: 0 0.4em 0.5em 0.4em;box-sizing: border-box;padding-bottom: 0.4em;background-color: white;position: relative;}#sk-625fa7d4-ada7-4c37-a692-a73dca47cb0b div.sk-label label {font-family: monospace;font-weight: bold;background-color: white;display: inline-block;line-height: 1.2em;}#sk-625fa7d4-ada7-4c37-a692-a73dca47cb0b div.sk-label-container {position: relative;z-index: 2;text-align: center;}#sk-625fa7d4-ada7-4c37-a692-a73dca47cb0b div.sk-container {/* jupyter's `normalize.less` sets `[hidden] { display: none; }` but bootstrap.min.css set `[hidden] { display: none !important; }` so we also need the `!important` here to be able to override the default hidden behavior on the sphinx rendered scikit-learn.org. See: https://github.com/scikit-learn/scikit-learn/issues/21755 */display: inline-block !important;position: relative;}#sk-625fa7d4-ada7-4c37-a692-a73dca47cb0b div.sk-text-repr-fallback {display: none;}</style><div id=\"sk-625fa7d4-ada7-4c37-a692-a73dca47cb0b\" class=\"sk-top-container\"><div class=\"sk-text-repr-fallback\"><pre>Pipeline(steps=[(&#x27;simpleimputer&#x27;, SimpleImputer()),\n",
              "                (&#x27;standardscaler&#x27;, StandardScaler())])</pre><b>Please rerun this cell to show the HTML repr or trust the notebook.</b></div><div class=\"sk-container\" hidden><div class=\"sk-item sk-dashed-wrapped\"><div class=\"sk-label-container\"><div class=\"sk-label sk-toggleable\"><input class=\"sk-toggleable__control sk-hidden--visually\" id=\"277034df-0ab2-48aa-a8ae-1437febd0252\" type=\"checkbox\" ><label for=\"277034df-0ab2-48aa-a8ae-1437febd0252\" class=\"sk-toggleable__label sk-toggleable__label-arrow\">Pipeline</label><div class=\"sk-toggleable__content\"><pre>Pipeline(steps=[(&#x27;simpleimputer&#x27;, SimpleImputer()),\n",
              "                (&#x27;standardscaler&#x27;, StandardScaler())])</pre></div></div></div><div class=\"sk-serial\"><div class=\"sk-item\"><div class=\"sk-estimator sk-toggleable\"><input class=\"sk-toggleable__control sk-hidden--visually\" id=\"d13a622f-feeb-4c1f-b0ef-f9edcc3b1048\" type=\"checkbox\" ><label for=\"d13a622f-feeb-4c1f-b0ef-f9edcc3b1048\" class=\"sk-toggleable__label sk-toggleable__label-arrow\">SimpleImputer</label><div class=\"sk-toggleable__content\"><pre>SimpleImputer()</pre></div></div></div><div class=\"sk-item\"><div class=\"sk-estimator sk-toggleable\"><input class=\"sk-toggleable__control sk-hidden--visually\" id=\"f300a3db-447a-49ec-9e0d-2dda2eaa529d\" type=\"checkbox\" ><label for=\"f300a3db-447a-49ec-9e0d-2dda2eaa529d\" class=\"sk-toggleable__label sk-toggleable__label-arrow\">StandardScaler</label><div class=\"sk-toggleable__content\"><pre>StandardScaler()</pre></div></div></div></div></div></div></div>"
            ]
          },
          "metadata": {},
          "execution_count": 19
        }
      ]
    },
    {
      "cell_type": "code",
      "source": [
        "catpipe = make_pipeline(freq_imputer, ohe)\n",
        "catpipe"
      ],
      "metadata": {
        "colab": {
          "base_uri": "https://localhost:8080/",
          "height": 126
        },
        "id": "45ws6AQZXEWi",
        "outputId": "8199856a-e38d-46f2-b3cc-2a45ced19130"
      },
      "execution_count": 20,
      "outputs": [
        {
          "output_type": "execute_result",
          "data": {
            "text/plain": [
              "Pipeline(steps=[('simpleimputer', SimpleImputer(strategy='most_frequent')),\n",
              "                ('onehotencoder',\n",
              "                 OneHotEncoder(handle_unknown='ignore', sparse=False))])"
            ],
            "text/html": [
              "<style>#sk-d02e6cb7-e779-4732-8595-d303881924a7 {color: black;background-color: white;}#sk-d02e6cb7-e779-4732-8595-d303881924a7 pre{padding: 0;}#sk-d02e6cb7-e779-4732-8595-d303881924a7 div.sk-toggleable {background-color: white;}#sk-d02e6cb7-e779-4732-8595-d303881924a7 label.sk-toggleable__label {cursor: pointer;display: block;width: 100%;margin-bottom: 0;padding: 0.3em;box-sizing: border-box;text-align: center;}#sk-d02e6cb7-e779-4732-8595-d303881924a7 label.sk-toggleable__label-arrow:before {content: \"▸\";float: left;margin-right: 0.25em;color: #696969;}#sk-d02e6cb7-e779-4732-8595-d303881924a7 label.sk-toggleable__label-arrow:hover:before {color: black;}#sk-d02e6cb7-e779-4732-8595-d303881924a7 div.sk-estimator:hover label.sk-toggleable__label-arrow:before {color: black;}#sk-d02e6cb7-e779-4732-8595-d303881924a7 div.sk-toggleable__content {max-height: 0;max-width: 0;overflow: hidden;text-align: left;background-color: #f0f8ff;}#sk-d02e6cb7-e779-4732-8595-d303881924a7 div.sk-toggleable__content pre {margin: 0.2em;color: black;border-radius: 0.25em;background-color: #f0f8ff;}#sk-d02e6cb7-e779-4732-8595-d303881924a7 input.sk-toggleable__control:checked~div.sk-toggleable__content {max-height: 200px;max-width: 100%;overflow: auto;}#sk-d02e6cb7-e779-4732-8595-d303881924a7 input.sk-toggleable__control:checked~label.sk-toggleable__label-arrow:before {content: \"▾\";}#sk-d02e6cb7-e779-4732-8595-d303881924a7 div.sk-estimator input.sk-toggleable__control:checked~label.sk-toggleable__label {background-color: #d4ebff;}#sk-d02e6cb7-e779-4732-8595-d303881924a7 div.sk-label input.sk-toggleable__control:checked~label.sk-toggleable__label {background-color: #d4ebff;}#sk-d02e6cb7-e779-4732-8595-d303881924a7 input.sk-hidden--visually {border: 0;clip: rect(1px 1px 1px 1px);clip: rect(1px, 1px, 1px, 1px);height: 1px;margin: -1px;overflow: hidden;padding: 0;position: absolute;width: 1px;}#sk-d02e6cb7-e779-4732-8595-d303881924a7 div.sk-estimator {font-family: monospace;background-color: #f0f8ff;border: 1px dotted black;border-radius: 0.25em;box-sizing: border-box;margin-bottom: 0.5em;}#sk-d02e6cb7-e779-4732-8595-d303881924a7 div.sk-estimator:hover {background-color: #d4ebff;}#sk-d02e6cb7-e779-4732-8595-d303881924a7 div.sk-parallel-item::after {content: \"\";width: 100%;border-bottom: 1px solid gray;flex-grow: 1;}#sk-d02e6cb7-e779-4732-8595-d303881924a7 div.sk-label:hover label.sk-toggleable__label {background-color: #d4ebff;}#sk-d02e6cb7-e779-4732-8595-d303881924a7 div.sk-serial::before {content: \"\";position: absolute;border-left: 1px solid gray;box-sizing: border-box;top: 2em;bottom: 0;left: 50%;}#sk-d02e6cb7-e779-4732-8595-d303881924a7 div.sk-serial {display: flex;flex-direction: column;align-items: center;background-color: white;padding-right: 0.2em;padding-left: 0.2em;}#sk-d02e6cb7-e779-4732-8595-d303881924a7 div.sk-item {z-index: 1;}#sk-d02e6cb7-e779-4732-8595-d303881924a7 div.sk-parallel {display: flex;align-items: stretch;justify-content: center;background-color: white;}#sk-d02e6cb7-e779-4732-8595-d303881924a7 div.sk-parallel::before {content: \"\";position: absolute;border-left: 1px solid gray;box-sizing: border-box;top: 2em;bottom: 0;left: 50%;}#sk-d02e6cb7-e779-4732-8595-d303881924a7 div.sk-parallel-item {display: flex;flex-direction: column;position: relative;background-color: white;}#sk-d02e6cb7-e779-4732-8595-d303881924a7 div.sk-parallel-item:first-child::after {align-self: flex-end;width: 50%;}#sk-d02e6cb7-e779-4732-8595-d303881924a7 div.sk-parallel-item:last-child::after {align-self: flex-start;width: 50%;}#sk-d02e6cb7-e779-4732-8595-d303881924a7 div.sk-parallel-item:only-child::after {width: 0;}#sk-d02e6cb7-e779-4732-8595-d303881924a7 div.sk-dashed-wrapped {border: 1px dashed gray;margin: 0 0.4em 0.5em 0.4em;box-sizing: border-box;padding-bottom: 0.4em;background-color: white;position: relative;}#sk-d02e6cb7-e779-4732-8595-d303881924a7 div.sk-label label {font-family: monospace;font-weight: bold;background-color: white;display: inline-block;line-height: 1.2em;}#sk-d02e6cb7-e779-4732-8595-d303881924a7 div.sk-label-container {position: relative;z-index: 2;text-align: center;}#sk-d02e6cb7-e779-4732-8595-d303881924a7 div.sk-container {/* jupyter's `normalize.less` sets `[hidden] { display: none; }` but bootstrap.min.css set `[hidden] { display: none !important; }` so we also need the `!important` here to be able to override the default hidden behavior on the sphinx rendered scikit-learn.org. See: https://github.com/scikit-learn/scikit-learn/issues/21755 */display: inline-block !important;position: relative;}#sk-d02e6cb7-e779-4732-8595-d303881924a7 div.sk-text-repr-fallback {display: none;}</style><div id=\"sk-d02e6cb7-e779-4732-8595-d303881924a7\" class=\"sk-top-container\"><div class=\"sk-text-repr-fallback\"><pre>Pipeline(steps=[(&#x27;simpleimputer&#x27;, SimpleImputer(strategy=&#x27;most_frequent&#x27;)),\n",
              "                (&#x27;onehotencoder&#x27;,\n",
              "                 OneHotEncoder(handle_unknown=&#x27;ignore&#x27;, sparse=False))])</pre><b>Please rerun this cell to show the HTML repr or trust the notebook.</b></div><div class=\"sk-container\" hidden><div class=\"sk-item sk-dashed-wrapped\"><div class=\"sk-label-container\"><div class=\"sk-label sk-toggleable\"><input class=\"sk-toggleable__control sk-hidden--visually\" id=\"7beaa066-0034-4a91-80ce-196bc6b3c7b1\" type=\"checkbox\" ><label for=\"7beaa066-0034-4a91-80ce-196bc6b3c7b1\" class=\"sk-toggleable__label sk-toggleable__label-arrow\">Pipeline</label><div class=\"sk-toggleable__content\"><pre>Pipeline(steps=[(&#x27;simpleimputer&#x27;, SimpleImputer(strategy=&#x27;most_frequent&#x27;)),\n",
              "                (&#x27;onehotencoder&#x27;,\n",
              "                 OneHotEncoder(handle_unknown=&#x27;ignore&#x27;, sparse=False))])</pre></div></div></div><div class=\"sk-serial\"><div class=\"sk-item\"><div class=\"sk-estimator sk-toggleable\"><input class=\"sk-toggleable__control sk-hidden--visually\" id=\"83f9fe95-ae5e-4e4d-b934-7e55e6a2fa02\" type=\"checkbox\" ><label for=\"83f9fe95-ae5e-4e4d-b934-7e55e6a2fa02\" class=\"sk-toggleable__label sk-toggleable__label-arrow\">SimpleImputer</label><div class=\"sk-toggleable__content\"><pre>SimpleImputer(strategy=&#x27;most_frequent&#x27;)</pre></div></div></div><div class=\"sk-item\"><div class=\"sk-estimator sk-toggleable\"><input class=\"sk-toggleable__control sk-hidden--visually\" id=\"bb9ad556-0aee-4f8a-9383-81137f4d0a1e\" type=\"checkbox\" ><label for=\"bb9ad556-0aee-4f8a-9383-81137f4d0a1e\" class=\"sk-toggleable__label sk-toggleable__label-arrow\">OneHotEncoder</label><div class=\"sk-toggleable__content\"><pre>OneHotEncoder(handle_unknown=&#x27;ignore&#x27;, sparse=False)</pre></div></div></div></div></div></div></div>"
            ]
          },
          "metadata": {},
          "execution_count": 20
        }
      ]
    },
    {
      "cell_type": "code",
      "source": [
        "cattuple = (catpipe, cat_selector)\n",
        "numtuple = (numpipe, num_selector)\n",
        "preprocessor = make_column_transformer(cattuple, numtuple)\n",
        "preprocessor"
      ],
      "metadata": {
        "colab": {
          "base_uri": "https://localhost:8080/",
          "height": 152
        },
        "id": "Wx2imXLJXJH6",
        "outputId": "c29adda8-21bf-4d14-be63-89fb05bedcf0"
      },
      "execution_count": 21,
      "outputs": [
        {
          "output_type": "execute_result",
          "data": {
            "text/plain": [
              "ColumnTransformer(transformers=[('pipeline-1',\n",
              "                                 Pipeline(steps=[('simpleimputer',\n",
              "                                                  SimpleImputer(strategy='most_frequent')),\n",
              "                                                 ('onehotencoder',\n",
              "                                                  OneHotEncoder(handle_unknown='ignore',\n",
              "                                                                sparse=False))]),\n",
              "                                 <sklearn.compose._column_transformer.make_column_selector object at 0x7f3cc5b26790>),\n",
              "                                ('pipeline-2',\n",
              "                                 Pipeline(steps=[('simpleimputer',\n",
              "                                                  SimpleImputer()),\n",
              "                                                 ('standardscaler',\n",
              "                                                  StandardScaler())]),\n",
              "                                 <sklearn.compose._column_transformer.make_column_selector object at 0x7f3cc5b26750>)])"
            ],
            "text/html": [
              "<style>#sk-c6a0a0e2-e08f-4366-85f3-3769c9186128 {color: black;background-color: white;}#sk-c6a0a0e2-e08f-4366-85f3-3769c9186128 pre{padding: 0;}#sk-c6a0a0e2-e08f-4366-85f3-3769c9186128 div.sk-toggleable {background-color: white;}#sk-c6a0a0e2-e08f-4366-85f3-3769c9186128 label.sk-toggleable__label {cursor: pointer;display: block;width: 100%;margin-bottom: 0;padding: 0.3em;box-sizing: border-box;text-align: center;}#sk-c6a0a0e2-e08f-4366-85f3-3769c9186128 label.sk-toggleable__label-arrow:before {content: \"▸\";float: left;margin-right: 0.25em;color: #696969;}#sk-c6a0a0e2-e08f-4366-85f3-3769c9186128 label.sk-toggleable__label-arrow:hover:before {color: black;}#sk-c6a0a0e2-e08f-4366-85f3-3769c9186128 div.sk-estimator:hover label.sk-toggleable__label-arrow:before {color: black;}#sk-c6a0a0e2-e08f-4366-85f3-3769c9186128 div.sk-toggleable__content {max-height: 0;max-width: 0;overflow: hidden;text-align: left;background-color: #f0f8ff;}#sk-c6a0a0e2-e08f-4366-85f3-3769c9186128 div.sk-toggleable__content pre {margin: 0.2em;color: black;border-radius: 0.25em;background-color: #f0f8ff;}#sk-c6a0a0e2-e08f-4366-85f3-3769c9186128 input.sk-toggleable__control:checked~div.sk-toggleable__content {max-height: 200px;max-width: 100%;overflow: auto;}#sk-c6a0a0e2-e08f-4366-85f3-3769c9186128 input.sk-toggleable__control:checked~label.sk-toggleable__label-arrow:before {content: \"▾\";}#sk-c6a0a0e2-e08f-4366-85f3-3769c9186128 div.sk-estimator input.sk-toggleable__control:checked~label.sk-toggleable__label {background-color: #d4ebff;}#sk-c6a0a0e2-e08f-4366-85f3-3769c9186128 div.sk-label input.sk-toggleable__control:checked~label.sk-toggleable__label {background-color: #d4ebff;}#sk-c6a0a0e2-e08f-4366-85f3-3769c9186128 input.sk-hidden--visually {border: 0;clip: rect(1px 1px 1px 1px);clip: rect(1px, 1px, 1px, 1px);height: 1px;margin: -1px;overflow: hidden;padding: 0;position: absolute;width: 1px;}#sk-c6a0a0e2-e08f-4366-85f3-3769c9186128 div.sk-estimator {font-family: monospace;background-color: #f0f8ff;border: 1px dotted black;border-radius: 0.25em;box-sizing: border-box;margin-bottom: 0.5em;}#sk-c6a0a0e2-e08f-4366-85f3-3769c9186128 div.sk-estimator:hover {background-color: #d4ebff;}#sk-c6a0a0e2-e08f-4366-85f3-3769c9186128 div.sk-parallel-item::after {content: \"\";width: 100%;border-bottom: 1px solid gray;flex-grow: 1;}#sk-c6a0a0e2-e08f-4366-85f3-3769c9186128 div.sk-label:hover label.sk-toggleable__label {background-color: #d4ebff;}#sk-c6a0a0e2-e08f-4366-85f3-3769c9186128 div.sk-serial::before {content: \"\";position: absolute;border-left: 1px solid gray;box-sizing: border-box;top: 2em;bottom: 0;left: 50%;}#sk-c6a0a0e2-e08f-4366-85f3-3769c9186128 div.sk-serial {display: flex;flex-direction: column;align-items: center;background-color: white;padding-right: 0.2em;padding-left: 0.2em;}#sk-c6a0a0e2-e08f-4366-85f3-3769c9186128 div.sk-item {z-index: 1;}#sk-c6a0a0e2-e08f-4366-85f3-3769c9186128 div.sk-parallel {display: flex;align-items: stretch;justify-content: center;background-color: white;}#sk-c6a0a0e2-e08f-4366-85f3-3769c9186128 div.sk-parallel::before {content: \"\";position: absolute;border-left: 1px solid gray;box-sizing: border-box;top: 2em;bottom: 0;left: 50%;}#sk-c6a0a0e2-e08f-4366-85f3-3769c9186128 div.sk-parallel-item {display: flex;flex-direction: column;position: relative;background-color: white;}#sk-c6a0a0e2-e08f-4366-85f3-3769c9186128 div.sk-parallel-item:first-child::after {align-self: flex-end;width: 50%;}#sk-c6a0a0e2-e08f-4366-85f3-3769c9186128 div.sk-parallel-item:last-child::after {align-self: flex-start;width: 50%;}#sk-c6a0a0e2-e08f-4366-85f3-3769c9186128 div.sk-parallel-item:only-child::after {width: 0;}#sk-c6a0a0e2-e08f-4366-85f3-3769c9186128 div.sk-dashed-wrapped {border: 1px dashed gray;margin: 0 0.4em 0.5em 0.4em;box-sizing: border-box;padding-bottom: 0.4em;background-color: white;position: relative;}#sk-c6a0a0e2-e08f-4366-85f3-3769c9186128 div.sk-label label {font-family: monospace;font-weight: bold;background-color: white;display: inline-block;line-height: 1.2em;}#sk-c6a0a0e2-e08f-4366-85f3-3769c9186128 div.sk-label-container {position: relative;z-index: 2;text-align: center;}#sk-c6a0a0e2-e08f-4366-85f3-3769c9186128 div.sk-container {/* jupyter's `normalize.less` sets `[hidden] { display: none; }` but bootstrap.min.css set `[hidden] { display: none !important; }` so we also need the `!important` here to be able to override the default hidden behavior on the sphinx rendered scikit-learn.org. See: https://github.com/scikit-learn/scikit-learn/issues/21755 */display: inline-block !important;position: relative;}#sk-c6a0a0e2-e08f-4366-85f3-3769c9186128 div.sk-text-repr-fallback {display: none;}</style><div id=\"sk-c6a0a0e2-e08f-4366-85f3-3769c9186128\" class=\"sk-top-container\"><div class=\"sk-text-repr-fallback\"><pre>ColumnTransformer(transformers=[(&#x27;pipeline-1&#x27;,\n",
              "                                 Pipeline(steps=[(&#x27;simpleimputer&#x27;,\n",
              "                                                  SimpleImputer(strategy=&#x27;most_frequent&#x27;)),\n",
              "                                                 (&#x27;onehotencoder&#x27;,\n",
              "                                                  OneHotEncoder(handle_unknown=&#x27;ignore&#x27;,\n",
              "                                                                sparse=False))]),\n",
              "                                 &lt;sklearn.compose._column_transformer.make_column_selector object at 0x7f3cc5b26790&gt;),\n",
              "                                (&#x27;pipeline-2&#x27;,\n",
              "                                 Pipeline(steps=[(&#x27;simpleimputer&#x27;,\n",
              "                                                  SimpleImputer()),\n",
              "                                                 (&#x27;standardscaler&#x27;,\n",
              "                                                  StandardScaler())]),\n",
              "                                 &lt;sklearn.compose._column_transformer.make_column_selector object at 0x7f3cc5b26750&gt;)])</pre><b>Please rerun this cell to show the HTML repr or trust the notebook.</b></div><div class=\"sk-container\" hidden><div class=\"sk-item sk-dashed-wrapped\"><div class=\"sk-label-container\"><div class=\"sk-label sk-toggleable\"><input class=\"sk-toggleable__control sk-hidden--visually\" id=\"484ea389-94e1-4290-a625-dd396442dbb0\" type=\"checkbox\" ><label for=\"484ea389-94e1-4290-a625-dd396442dbb0\" class=\"sk-toggleable__label sk-toggleable__label-arrow\">ColumnTransformer</label><div class=\"sk-toggleable__content\"><pre>ColumnTransformer(transformers=[(&#x27;pipeline-1&#x27;,\n",
              "                                 Pipeline(steps=[(&#x27;simpleimputer&#x27;,\n",
              "                                                  SimpleImputer(strategy=&#x27;most_frequent&#x27;)),\n",
              "                                                 (&#x27;onehotencoder&#x27;,\n",
              "                                                  OneHotEncoder(handle_unknown=&#x27;ignore&#x27;,\n",
              "                                                                sparse=False))]),\n",
              "                                 &lt;sklearn.compose._column_transformer.make_column_selector object at 0x7f3cc5b26790&gt;),\n",
              "                                (&#x27;pipeline-2&#x27;,\n",
              "                                 Pipeline(steps=[(&#x27;simpleimputer&#x27;,\n",
              "                                                  SimpleImputer()),\n",
              "                                                 (&#x27;standardscaler&#x27;,\n",
              "                                                  StandardScaler())]),\n",
              "                                 &lt;sklearn.compose._column_transformer.make_column_selector object at 0x7f3cc5b26750&gt;)])</pre></div></div></div><div class=\"sk-parallel\"><div class=\"sk-parallel-item\"><div class=\"sk-item\"><div class=\"sk-label-container\"><div class=\"sk-label sk-toggleable\"><input class=\"sk-toggleable__control sk-hidden--visually\" id=\"8bddc00f-de7f-4c5a-accb-739f5549b100\" type=\"checkbox\" ><label for=\"8bddc00f-de7f-4c5a-accb-739f5549b100\" class=\"sk-toggleable__label sk-toggleable__label-arrow\">pipeline-1</label><div class=\"sk-toggleable__content\"><pre>&lt;sklearn.compose._column_transformer.make_column_selector object at 0x7f3cc5b26790&gt;</pre></div></div></div><div class=\"sk-serial\"><div class=\"sk-item\"><div class=\"sk-serial\"><div class=\"sk-item\"><div class=\"sk-estimator sk-toggleable\"><input class=\"sk-toggleable__control sk-hidden--visually\" id=\"5da61ddc-0dde-43d2-955f-0faf4b40ee33\" type=\"checkbox\" ><label for=\"5da61ddc-0dde-43d2-955f-0faf4b40ee33\" class=\"sk-toggleable__label sk-toggleable__label-arrow\">SimpleImputer</label><div class=\"sk-toggleable__content\"><pre>SimpleImputer(strategy=&#x27;most_frequent&#x27;)</pre></div></div></div><div class=\"sk-item\"><div class=\"sk-estimator sk-toggleable\"><input class=\"sk-toggleable__control sk-hidden--visually\" id=\"6338dac6-d6b6-4e8a-8551-f8aa0d6f77d5\" type=\"checkbox\" ><label for=\"6338dac6-d6b6-4e8a-8551-f8aa0d6f77d5\" class=\"sk-toggleable__label sk-toggleable__label-arrow\">OneHotEncoder</label><div class=\"sk-toggleable__content\"><pre>OneHotEncoder(handle_unknown=&#x27;ignore&#x27;, sparse=False)</pre></div></div></div></div></div></div></div></div><div class=\"sk-parallel-item\"><div class=\"sk-item\"><div class=\"sk-label-container\"><div class=\"sk-label sk-toggleable\"><input class=\"sk-toggleable__control sk-hidden--visually\" id=\"1545942c-a630-4efa-ac22-10091cf03fa1\" type=\"checkbox\" ><label for=\"1545942c-a630-4efa-ac22-10091cf03fa1\" class=\"sk-toggleable__label sk-toggleable__label-arrow\">pipeline-2</label><div class=\"sk-toggleable__content\"><pre>&lt;sklearn.compose._column_transformer.make_column_selector object at 0x7f3cc5b26750&gt;</pre></div></div></div><div class=\"sk-serial\"><div class=\"sk-item\"><div class=\"sk-serial\"><div class=\"sk-item\"><div class=\"sk-estimator sk-toggleable\"><input class=\"sk-toggleable__control sk-hidden--visually\" id=\"3e568798-f32c-4a59-bd09-4ea0047f45fc\" type=\"checkbox\" ><label for=\"3e568798-f32c-4a59-bd09-4ea0047f45fc\" class=\"sk-toggleable__label sk-toggleable__label-arrow\">SimpleImputer</label><div class=\"sk-toggleable__content\"><pre>SimpleImputer()</pre></div></div></div><div class=\"sk-item\"><div class=\"sk-estimator sk-toggleable\"><input class=\"sk-toggleable__control sk-hidden--visually\" id=\"5774d63b-37f0-4267-a445-3a4016c6f5b6\" type=\"checkbox\" ><label for=\"5774d63b-37f0-4267-a445-3a4016c6f5b6\" class=\"sk-toggleable__label sk-toggleable__label-arrow\">StandardScaler</label><div class=\"sk-toggleable__content\"><pre>StandardScaler()</pre></div></div></div></div></div></div></div></div></div></div></div></div>"
            ]
          },
          "metadata": {},
          "execution_count": 21
        }
      ]
    },
    {
      "cell_type": "code",
      "source": [
        "preprocessor.fit(X_train)"
      ],
      "metadata": {
        "colab": {
          "base_uri": "https://localhost:8080/",
          "height": 152
        },
        "id": "wJlP6WmQX0qP",
        "outputId": "8e7a8acf-e292-49ba-ba9b-1436349d7b49"
      },
      "execution_count": 22,
      "outputs": [
        {
          "output_type": "execute_result",
          "data": {
            "text/plain": [
              "ColumnTransformer(transformers=[('pipeline-1',\n",
              "                                 Pipeline(steps=[('simpleimputer',\n",
              "                                                  SimpleImputer(strategy='most_frequent')),\n",
              "                                                 ('onehotencoder',\n",
              "                                                  OneHotEncoder(handle_unknown='ignore',\n",
              "                                                                sparse=False))]),\n",
              "                                 <sklearn.compose._column_transformer.make_column_selector object at 0x7f3cc5b26790>),\n",
              "                                ('pipeline-2',\n",
              "                                 Pipeline(steps=[('simpleimputer',\n",
              "                                                  SimpleImputer()),\n",
              "                                                 ('standardscaler',\n",
              "                                                  StandardScaler())]),\n",
              "                                 <sklearn.compose._column_transformer.make_column_selector object at 0x7f3cc5b26750>)])"
            ],
            "text/html": [
              "<style>#sk-7b10bbd7-c5ea-4ca3-a1b3-3f748a55fb23 {color: black;background-color: white;}#sk-7b10bbd7-c5ea-4ca3-a1b3-3f748a55fb23 pre{padding: 0;}#sk-7b10bbd7-c5ea-4ca3-a1b3-3f748a55fb23 div.sk-toggleable {background-color: white;}#sk-7b10bbd7-c5ea-4ca3-a1b3-3f748a55fb23 label.sk-toggleable__label {cursor: pointer;display: block;width: 100%;margin-bottom: 0;padding: 0.3em;box-sizing: border-box;text-align: center;}#sk-7b10bbd7-c5ea-4ca3-a1b3-3f748a55fb23 label.sk-toggleable__label-arrow:before {content: \"▸\";float: left;margin-right: 0.25em;color: #696969;}#sk-7b10bbd7-c5ea-4ca3-a1b3-3f748a55fb23 label.sk-toggleable__label-arrow:hover:before {color: black;}#sk-7b10bbd7-c5ea-4ca3-a1b3-3f748a55fb23 div.sk-estimator:hover label.sk-toggleable__label-arrow:before {color: black;}#sk-7b10bbd7-c5ea-4ca3-a1b3-3f748a55fb23 div.sk-toggleable__content {max-height: 0;max-width: 0;overflow: hidden;text-align: left;background-color: #f0f8ff;}#sk-7b10bbd7-c5ea-4ca3-a1b3-3f748a55fb23 div.sk-toggleable__content pre {margin: 0.2em;color: black;border-radius: 0.25em;background-color: #f0f8ff;}#sk-7b10bbd7-c5ea-4ca3-a1b3-3f748a55fb23 input.sk-toggleable__control:checked~div.sk-toggleable__content {max-height: 200px;max-width: 100%;overflow: auto;}#sk-7b10bbd7-c5ea-4ca3-a1b3-3f748a55fb23 input.sk-toggleable__control:checked~label.sk-toggleable__label-arrow:before {content: \"▾\";}#sk-7b10bbd7-c5ea-4ca3-a1b3-3f748a55fb23 div.sk-estimator input.sk-toggleable__control:checked~label.sk-toggleable__label {background-color: #d4ebff;}#sk-7b10bbd7-c5ea-4ca3-a1b3-3f748a55fb23 div.sk-label input.sk-toggleable__control:checked~label.sk-toggleable__label {background-color: #d4ebff;}#sk-7b10bbd7-c5ea-4ca3-a1b3-3f748a55fb23 input.sk-hidden--visually {border: 0;clip: rect(1px 1px 1px 1px);clip: rect(1px, 1px, 1px, 1px);height: 1px;margin: -1px;overflow: hidden;padding: 0;position: absolute;width: 1px;}#sk-7b10bbd7-c5ea-4ca3-a1b3-3f748a55fb23 div.sk-estimator {font-family: monospace;background-color: #f0f8ff;border: 1px dotted black;border-radius: 0.25em;box-sizing: border-box;margin-bottom: 0.5em;}#sk-7b10bbd7-c5ea-4ca3-a1b3-3f748a55fb23 div.sk-estimator:hover {background-color: #d4ebff;}#sk-7b10bbd7-c5ea-4ca3-a1b3-3f748a55fb23 div.sk-parallel-item::after {content: \"\";width: 100%;border-bottom: 1px solid gray;flex-grow: 1;}#sk-7b10bbd7-c5ea-4ca3-a1b3-3f748a55fb23 div.sk-label:hover label.sk-toggleable__label {background-color: #d4ebff;}#sk-7b10bbd7-c5ea-4ca3-a1b3-3f748a55fb23 div.sk-serial::before {content: \"\";position: absolute;border-left: 1px solid gray;box-sizing: border-box;top: 2em;bottom: 0;left: 50%;}#sk-7b10bbd7-c5ea-4ca3-a1b3-3f748a55fb23 div.sk-serial {display: flex;flex-direction: column;align-items: center;background-color: white;padding-right: 0.2em;padding-left: 0.2em;}#sk-7b10bbd7-c5ea-4ca3-a1b3-3f748a55fb23 div.sk-item {z-index: 1;}#sk-7b10bbd7-c5ea-4ca3-a1b3-3f748a55fb23 div.sk-parallel {display: flex;align-items: stretch;justify-content: center;background-color: white;}#sk-7b10bbd7-c5ea-4ca3-a1b3-3f748a55fb23 div.sk-parallel::before {content: \"\";position: absolute;border-left: 1px solid gray;box-sizing: border-box;top: 2em;bottom: 0;left: 50%;}#sk-7b10bbd7-c5ea-4ca3-a1b3-3f748a55fb23 div.sk-parallel-item {display: flex;flex-direction: column;position: relative;background-color: white;}#sk-7b10bbd7-c5ea-4ca3-a1b3-3f748a55fb23 div.sk-parallel-item:first-child::after {align-self: flex-end;width: 50%;}#sk-7b10bbd7-c5ea-4ca3-a1b3-3f748a55fb23 div.sk-parallel-item:last-child::after {align-self: flex-start;width: 50%;}#sk-7b10bbd7-c5ea-4ca3-a1b3-3f748a55fb23 div.sk-parallel-item:only-child::after {width: 0;}#sk-7b10bbd7-c5ea-4ca3-a1b3-3f748a55fb23 div.sk-dashed-wrapped {border: 1px dashed gray;margin: 0 0.4em 0.5em 0.4em;box-sizing: border-box;padding-bottom: 0.4em;background-color: white;position: relative;}#sk-7b10bbd7-c5ea-4ca3-a1b3-3f748a55fb23 div.sk-label label {font-family: monospace;font-weight: bold;background-color: white;display: inline-block;line-height: 1.2em;}#sk-7b10bbd7-c5ea-4ca3-a1b3-3f748a55fb23 div.sk-label-container {position: relative;z-index: 2;text-align: center;}#sk-7b10bbd7-c5ea-4ca3-a1b3-3f748a55fb23 div.sk-container {/* jupyter's `normalize.less` sets `[hidden] { display: none; }` but bootstrap.min.css set `[hidden] { display: none !important; }` so we also need the `!important` here to be able to override the default hidden behavior on the sphinx rendered scikit-learn.org. See: https://github.com/scikit-learn/scikit-learn/issues/21755 */display: inline-block !important;position: relative;}#sk-7b10bbd7-c5ea-4ca3-a1b3-3f748a55fb23 div.sk-text-repr-fallback {display: none;}</style><div id=\"sk-7b10bbd7-c5ea-4ca3-a1b3-3f748a55fb23\" class=\"sk-top-container\"><div class=\"sk-text-repr-fallback\"><pre>ColumnTransformer(transformers=[(&#x27;pipeline-1&#x27;,\n",
              "                                 Pipeline(steps=[(&#x27;simpleimputer&#x27;,\n",
              "                                                  SimpleImputer(strategy=&#x27;most_frequent&#x27;)),\n",
              "                                                 (&#x27;onehotencoder&#x27;,\n",
              "                                                  OneHotEncoder(handle_unknown=&#x27;ignore&#x27;,\n",
              "                                                                sparse=False))]),\n",
              "                                 &lt;sklearn.compose._column_transformer.make_column_selector object at 0x7f3cc5b26790&gt;),\n",
              "                                (&#x27;pipeline-2&#x27;,\n",
              "                                 Pipeline(steps=[(&#x27;simpleimputer&#x27;,\n",
              "                                                  SimpleImputer()),\n",
              "                                                 (&#x27;standardscaler&#x27;,\n",
              "                                                  StandardScaler())]),\n",
              "                                 &lt;sklearn.compose._column_transformer.make_column_selector object at 0x7f3cc5b26750&gt;)])</pre><b>Please rerun this cell to show the HTML repr or trust the notebook.</b></div><div class=\"sk-container\" hidden><div class=\"sk-item sk-dashed-wrapped\"><div class=\"sk-label-container\"><div class=\"sk-label sk-toggleable\"><input class=\"sk-toggleable__control sk-hidden--visually\" id=\"3ea61104-662a-449f-b0ef-ed3a893e119b\" type=\"checkbox\" ><label for=\"3ea61104-662a-449f-b0ef-ed3a893e119b\" class=\"sk-toggleable__label sk-toggleable__label-arrow\">ColumnTransformer</label><div class=\"sk-toggleable__content\"><pre>ColumnTransformer(transformers=[(&#x27;pipeline-1&#x27;,\n",
              "                                 Pipeline(steps=[(&#x27;simpleimputer&#x27;,\n",
              "                                                  SimpleImputer(strategy=&#x27;most_frequent&#x27;)),\n",
              "                                                 (&#x27;onehotencoder&#x27;,\n",
              "                                                  OneHotEncoder(handle_unknown=&#x27;ignore&#x27;,\n",
              "                                                                sparse=False))]),\n",
              "                                 &lt;sklearn.compose._column_transformer.make_column_selector object at 0x7f3cc5b26790&gt;),\n",
              "                                (&#x27;pipeline-2&#x27;,\n",
              "                                 Pipeline(steps=[(&#x27;simpleimputer&#x27;,\n",
              "                                                  SimpleImputer()),\n",
              "                                                 (&#x27;standardscaler&#x27;,\n",
              "                                                  StandardScaler())]),\n",
              "                                 &lt;sklearn.compose._column_transformer.make_column_selector object at 0x7f3cc5b26750&gt;)])</pre></div></div></div><div class=\"sk-parallel\"><div class=\"sk-parallel-item\"><div class=\"sk-item\"><div class=\"sk-label-container\"><div class=\"sk-label sk-toggleable\"><input class=\"sk-toggleable__control sk-hidden--visually\" id=\"f6ba9c5a-2b6e-451a-a5aa-b11c9bf8a85a\" type=\"checkbox\" ><label for=\"f6ba9c5a-2b6e-451a-a5aa-b11c9bf8a85a\" class=\"sk-toggleable__label sk-toggleable__label-arrow\">pipeline-1</label><div class=\"sk-toggleable__content\"><pre>&lt;sklearn.compose._column_transformer.make_column_selector object at 0x7f3cc5b26790&gt;</pre></div></div></div><div class=\"sk-serial\"><div class=\"sk-item\"><div class=\"sk-serial\"><div class=\"sk-item\"><div class=\"sk-estimator sk-toggleable\"><input class=\"sk-toggleable__control sk-hidden--visually\" id=\"bd4f34c7-2e75-4ae1-a8e2-2550e7edaeb9\" type=\"checkbox\" ><label for=\"bd4f34c7-2e75-4ae1-a8e2-2550e7edaeb9\" class=\"sk-toggleable__label sk-toggleable__label-arrow\">SimpleImputer</label><div class=\"sk-toggleable__content\"><pre>SimpleImputer(strategy=&#x27;most_frequent&#x27;)</pre></div></div></div><div class=\"sk-item\"><div class=\"sk-estimator sk-toggleable\"><input class=\"sk-toggleable__control sk-hidden--visually\" id=\"5ba19a10-ac6f-4ae6-9e20-ae06253701bc\" type=\"checkbox\" ><label for=\"5ba19a10-ac6f-4ae6-9e20-ae06253701bc\" class=\"sk-toggleable__label sk-toggleable__label-arrow\">OneHotEncoder</label><div class=\"sk-toggleable__content\"><pre>OneHotEncoder(handle_unknown=&#x27;ignore&#x27;, sparse=False)</pre></div></div></div></div></div></div></div></div><div class=\"sk-parallel-item\"><div class=\"sk-item\"><div class=\"sk-label-container\"><div class=\"sk-label sk-toggleable\"><input class=\"sk-toggleable__control sk-hidden--visually\" id=\"273cfa8d-cbeb-4e29-b235-c4f3c18543eb\" type=\"checkbox\" ><label for=\"273cfa8d-cbeb-4e29-b235-c4f3c18543eb\" class=\"sk-toggleable__label sk-toggleable__label-arrow\">pipeline-2</label><div class=\"sk-toggleable__content\"><pre>&lt;sklearn.compose._column_transformer.make_column_selector object at 0x7f3cc5b26750&gt;</pre></div></div></div><div class=\"sk-serial\"><div class=\"sk-item\"><div class=\"sk-serial\"><div class=\"sk-item\"><div class=\"sk-estimator sk-toggleable\"><input class=\"sk-toggleable__control sk-hidden--visually\" id=\"c9803b92-d6e3-4e3e-8ec9-e562ed1a5379\" type=\"checkbox\" ><label for=\"c9803b92-d6e3-4e3e-8ec9-e562ed1a5379\" class=\"sk-toggleable__label sk-toggleable__label-arrow\">SimpleImputer</label><div class=\"sk-toggleable__content\"><pre>SimpleImputer()</pre></div></div></div><div class=\"sk-item\"><div class=\"sk-estimator sk-toggleable\"><input class=\"sk-toggleable__control sk-hidden--visually\" id=\"d698a895-5151-4227-9e5c-670240c105bc\" type=\"checkbox\" ><label for=\"d698a895-5151-4227-9e5c-670240c105bc\" class=\"sk-toggleable__label sk-toggleable__label-arrow\">StandardScaler</label><div class=\"sk-toggleable__content\"><pre>StandardScaler()</pre></div></div></div></div></div></div></div></div></div></div></div></div>"
            ]
          },
          "metadata": {},
          "execution_count": 22
        }
      ]
    },
    {
      "cell_type": "code",
      "source": [
        "X_train_processed = preprocessor.transform(X_train)\n",
        "X_test_processed = preprocessor.transform(X_test)"
      ],
      "metadata": {
        "id": "i8EFhAfEXRen"
      },
      "execution_count": 23,
      "outputs": []
    },
    {
      "cell_type": "code",
      "source": [
        "print(np.isnan(X_train_processed).sum().sum(), 'missing values in training data')\n",
        "print(np.isnan(X_test_processed).sum().sum(), 'missing values in testing data')\n",
        "print('\\n')\n",
        "print('data in X_train_processed is', X_train_processed.dtype)\n",
        "print('data in X_test_processed is', X_test_processed.dtype)\n",
        "print('\\n')\n",
        "print('shape of data is', X_train_processed.shape)\n",
        "print('\\n')\n",
        "X_train_processed"
      ],
      "metadata": {
        "colab": {
          "base_uri": "https://localhost:8080/"
        },
        "id": "TkXfA5tnX2ok",
        "outputId": "e24f3da9-f2f6-4f3e-f7a6-a42f9846da63"
      },
      "execution_count": 24,
      "outputs": [
        {
          "output_type": "stream",
          "name": "stdout",
          "text": [
            "0 missing values in training data\n",
            "0 missing values in testing data\n",
            "\n",
            "\n",
            "data in X_train_processed is float64\n",
            "data in X_test_processed is float64\n",
            "\n",
            "\n",
            "shape of data is (6392, 1592)\n",
            "\n",
            "\n"
          ]
        },
        {
          "output_type": "execute_result",
          "data": {
            "text/plain": [
              "array([[ 0.        ,  0.        ,  0.        , ..., -0.71277507,\n",
              "         1.82810922,  1.32784893],\n",
              "       [ 0.        ,  0.        ,  0.        , ..., -1.29105225,\n",
              "         0.60336888,  1.32784893],\n",
              "       [ 0.        ,  0.        ,  0.        , ...,  1.81331864,\n",
              "         0.24454056,  0.13618724],\n",
              "       ...,\n",
              "       [ 0.        ,  0.        ,  0.        , ..., -0.92052713,\n",
              "         1.52302674,  0.49368575],\n",
              "       [ 0.        ,  0.        ,  0.        , ..., -0.2277552 ,\n",
              "        -0.38377708,  1.0895166 ],\n",
              "       [ 0.        ,  0.        ,  0.        , ..., -0.95867683,\n",
              "        -0.73836105, -0.10214509]])"
            ]
          },
          "metadata": {},
          "execution_count": 24
        }
      ]
    },
    {
      "cell_type": "code",
      "source": [
        "from sklearn.linear_model import LinearRegression\n",
        "reg = LinearRegression()"
      ],
      "metadata": {
        "id": "oDAWZB1Mkwho"
      },
      "execution_count": 25,
      "outputs": []
    },
    {
      "cell_type": "code",
      "source": [
        "reg_pipe = make_pipeline(scaler, reg)"
      ],
      "metadata": {
        "id": "JZVWHGJhlEtn"
      },
      "execution_count": 28,
      "outputs": []
    },
    {
      "cell_type": "code",
      "source": [
        "reg_pipe.fit(X_train_processed, y_train)"
      ],
      "metadata": {
        "colab": {
          "base_uri": "https://localhost:8080/",
          "height": 126
        },
        "id": "tme9axx7lPgb",
        "outputId": "ce6e1b26-fb8f-4f2b-b6b1-8d2f398e8287"
      },
      "execution_count": 34,
      "outputs": [
        {
          "output_type": "execute_result",
          "data": {
            "text/plain": [
              "Pipeline(steps=[('standardscaler', StandardScaler()),\n",
              "                ('linearregression', LinearRegression())])"
            ],
            "text/html": [
              "<style>#sk-a04cfb61-6f05-4aaa-8d10-ef43d13b9067 {color: black;background-color: white;}#sk-a04cfb61-6f05-4aaa-8d10-ef43d13b9067 pre{padding: 0;}#sk-a04cfb61-6f05-4aaa-8d10-ef43d13b9067 div.sk-toggleable {background-color: white;}#sk-a04cfb61-6f05-4aaa-8d10-ef43d13b9067 label.sk-toggleable__label {cursor: pointer;display: block;width: 100%;margin-bottom: 0;padding: 0.3em;box-sizing: border-box;text-align: center;}#sk-a04cfb61-6f05-4aaa-8d10-ef43d13b9067 label.sk-toggleable__label-arrow:before {content: \"▸\";float: left;margin-right: 0.25em;color: #696969;}#sk-a04cfb61-6f05-4aaa-8d10-ef43d13b9067 label.sk-toggleable__label-arrow:hover:before {color: black;}#sk-a04cfb61-6f05-4aaa-8d10-ef43d13b9067 div.sk-estimator:hover label.sk-toggleable__label-arrow:before {color: black;}#sk-a04cfb61-6f05-4aaa-8d10-ef43d13b9067 div.sk-toggleable__content {max-height: 0;max-width: 0;overflow: hidden;text-align: left;background-color: #f0f8ff;}#sk-a04cfb61-6f05-4aaa-8d10-ef43d13b9067 div.sk-toggleable__content pre {margin: 0.2em;color: black;border-radius: 0.25em;background-color: #f0f8ff;}#sk-a04cfb61-6f05-4aaa-8d10-ef43d13b9067 input.sk-toggleable__control:checked~div.sk-toggleable__content {max-height: 200px;max-width: 100%;overflow: auto;}#sk-a04cfb61-6f05-4aaa-8d10-ef43d13b9067 input.sk-toggleable__control:checked~label.sk-toggleable__label-arrow:before {content: \"▾\";}#sk-a04cfb61-6f05-4aaa-8d10-ef43d13b9067 div.sk-estimator input.sk-toggleable__control:checked~label.sk-toggleable__label {background-color: #d4ebff;}#sk-a04cfb61-6f05-4aaa-8d10-ef43d13b9067 div.sk-label input.sk-toggleable__control:checked~label.sk-toggleable__label {background-color: #d4ebff;}#sk-a04cfb61-6f05-4aaa-8d10-ef43d13b9067 input.sk-hidden--visually {border: 0;clip: rect(1px 1px 1px 1px);clip: rect(1px, 1px, 1px, 1px);height: 1px;margin: -1px;overflow: hidden;padding: 0;position: absolute;width: 1px;}#sk-a04cfb61-6f05-4aaa-8d10-ef43d13b9067 div.sk-estimator {font-family: monospace;background-color: #f0f8ff;border: 1px dotted black;border-radius: 0.25em;box-sizing: border-box;margin-bottom: 0.5em;}#sk-a04cfb61-6f05-4aaa-8d10-ef43d13b9067 div.sk-estimator:hover {background-color: #d4ebff;}#sk-a04cfb61-6f05-4aaa-8d10-ef43d13b9067 div.sk-parallel-item::after {content: \"\";width: 100%;border-bottom: 1px solid gray;flex-grow: 1;}#sk-a04cfb61-6f05-4aaa-8d10-ef43d13b9067 div.sk-label:hover label.sk-toggleable__label {background-color: #d4ebff;}#sk-a04cfb61-6f05-4aaa-8d10-ef43d13b9067 div.sk-serial::before {content: \"\";position: absolute;border-left: 1px solid gray;box-sizing: border-box;top: 2em;bottom: 0;left: 50%;}#sk-a04cfb61-6f05-4aaa-8d10-ef43d13b9067 div.sk-serial {display: flex;flex-direction: column;align-items: center;background-color: white;padding-right: 0.2em;padding-left: 0.2em;}#sk-a04cfb61-6f05-4aaa-8d10-ef43d13b9067 div.sk-item {z-index: 1;}#sk-a04cfb61-6f05-4aaa-8d10-ef43d13b9067 div.sk-parallel {display: flex;align-items: stretch;justify-content: center;background-color: white;}#sk-a04cfb61-6f05-4aaa-8d10-ef43d13b9067 div.sk-parallel::before {content: \"\";position: absolute;border-left: 1px solid gray;box-sizing: border-box;top: 2em;bottom: 0;left: 50%;}#sk-a04cfb61-6f05-4aaa-8d10-ef43d13b9067 div.sk-parallel-item {display: flex;flex-direction: column;position: relative;background-color: white;}#sk-a04cfb61-6f05-4aaa-8d10-ef43d13b9067 div.sk-parallel-item:first-child::after {align-self: flex-end;width: 50%;}#sk-a04cfb61-6f05-4aaa-8d10-ef43d13b9067 div.sk-parallel-item:last-child::after {align-self: flex-start;width: 50%;}#sk-a04cfb61-6f05-4aaa-8d10-ef43d13b9067 div.sk-parallel-item:only-child::after {width: 0;}#sk-a04cfb61-6f05-4aaa-8d10-ef43d13b9067 div.sk-dashed-wrapped {border: 1px dashed gray;margin: 0 0.4em 0.5em 0.4em;box-sizing: border-box;padding-bottom: 0.4em;background-color: white;position: relative;}#sk-a04cfb61-6f05-4aaa-8d10-ef43d13b9067 div.sk-label label {font-family: monospace;font-weight: bold;background-color: white;display: inline-block;line-height: 1.2em;}#sk-a04cfb61-6f05-4aaa-8d10-ef43d13b9067 div.sk-label-container {position: relative;z-index: 2;text-align: center;}#sk-a04cfb61-6f05-4aaa-8d10-ef43d13b9067 div.sk-container {/* jupyter's `normalize.less` sets `[hidden] { display: none; }` but bootstrap.min.css set `[hidden] { display: none !important; }` so we also need the `!important` here to be able to override the default hidden behavior on the sphinx rendered scikit-learn.org. See: https://github.com/scikit-learn/scikit-learn/issues/21755 */display: inline-block !important;position: relative;}#sk-a04cfb61-6f05-4aaa-8d10-ef43d13b9067 div.sk-text-repr-fallback {display: none;}</style><div id=\"sk-a04cfb61-6f05-4aaa-8d10-ef43d13b9067\" class=\"sk-top-container\"><div class=\"sk-text-repr-fallback\"><pre>Pipeline(steps=[(&#x27;standardscaler&#x27;, StandardScaler()),\n",
              "                (&#x27;linearregression&#x27;, LinearRegression())])</pre><b>Please rerun this cell to show the HTML repr or trust the notebook.</b></div><div class=\"sk-container\" hidden><div class=\"sk-item sk-dashed-wrapped\"><div class=\"sk-label-container\"><div class=\"sk-label sk-toggleable\"><input class=\"sk-toggleable__control sk-hidden--visually\" id=\"464d2828-0147-4133-bb91-e125662c9c43\" type=\"checkbox\" ><label for=\"464d2828-0147-4133-bb91-e125662c9c43\" class=\"sk-toggleable__label sk-toggleable__label-arrow\">Pipeline</label><div class=\"sk-toggleable__content\"><pre>Pipeline(steps=[(&#x27;standardscaler&#x27;, StandardScaler()),\n",
              "                (&#x27;linearregression&#x27;, LinearRegression())])</pre></div></div></div><div class=\"sk-serial\"><div class=\"sk-item\"><div class=\"sk-estimator sk-toggleable\"><input class=\"sk-toggleable__control sk-hidden--visually\" id=\"5f526adb-8e90-41dd-9fba-4b85f6864669\" type=\"checkbox\" ><label for=\"5f526adb-8e90-41dd-9fba-4b85f6864669\" class=\"sk-toggleable__label sk-toggleable__label-arrow\">StandardScaler</label><div class=\"sk-toggleable__content\"><pre>StandardScaler()</pre></div></div></div><div class=\"sk-item\"><div class=\"sk-estimator sk-toggleable\"><input class=\"sk-toggleable__control sk-hidden--visually\" id=\"a110f968-a4fe-41e9-b2b2-fe852df399ec\" type=\"checkbox\" ><label for=\"a110f968-a4fe-41e9-b2b2-fe852df399ec\" class=\"sk-toggleable__label sk-toggleable__label-arrow\">LinearRegression</label><div class=\"sk-toggleable__content\"><pre>LinearRegression()</pre></div></div></div></div></div></div></div>"
            ]
          },
          "metadata": {},
          "execution_count": 34
        }
      ]
    },
    {
      "cell_type": "code",
      "source": [
        "predict = reg_pipe.predict(X_test_processed)"
      ],
      "metadata": {
        "id": "grfcdiTsl5dd"
      },
      "execution_count": 35,
      "outputs": []
    },
    {
      "cell_type": "code",
      "source": [
        "from sklearn.metrics import mean_absolute_error, mean_squared_error, r2_score"
      ],
      "metadata": {
        "id": "hqIzE17sm0pC"
      },
      "execution_count": 37,
      "outputs": []
    },
    {
      "cell_type": "code",
      "source": [
        "train_pred = reg_pipe.predict(X_train_processed)\n",
        "test_pred = reg_pipe.predict(X_test_processed)"
      ],
      "metadata": {
        "id": "9wYK577XmVuZ"
      },
      "execution_count": 38,
      "outputs": []
    },
    {
      "cell_type": "code",
      "source": [
        "train_r2 = r2_score(y_train, train_pred)\n",
        "test_r2 = r2_score(y_test, test_pred)\n",
        "print(f'Training R2: {train_r2}')\n",
        "print(f'Testing R2: {test_r2}')"
      ],
      "metadata": {
        "colab": {
          "base_uri": "https://localhost:8080/"
        },
        "id": "IL_XTqJcnE6R",
        "outputId": "5f07ce3a-3272-4d10-be5a-50e416d2dec1"
      },
      "execution_count": 41,
      "outputs": [
        {
          "output_type": "stream",
          "name": "stdout",
          "text": [
            "Training R2: 0.6645060880780895\n",
            "Testing R2: -6.440291231849341e+24\n"
          ]
        }
      ]
    },
    {
      "cell_type": "markdown",
      "source": [
        "This model is over fiting it is getting good work done with the training data but then failing with the testing data."
      ],
      "metadata": {
        "id": "sHRXCL43nuvc"
      }
    },
    {
      "cell_type": "code",
      "source": [
        "train_RMSE = np.sqrt(np.mean(np.abs(train_pred - y_train)**2))\n",
        "test_RMSE = np.sqrt(np.mean(np.abs(test_pred - y_test)**2))\n",
        "print(f'Training RMSE: {train_RMSE}')\n",
        "print(f'Testing RMSE: {test_RMSE}')"
      ],
      "metadata": {
        "colab": {
          "base_uri": "https://localhost:8080/"
        },
        "id": "Sz4iz94GnY2P",
        "outputId": "8435aefa-1258-4461-dfe5-76299eb9d51f"
      },
      "execution_count": 44,
      "outputs": [
        {
          "output_type": "stream",
          "name": "stdout",
          "text": [
            "Training RMSE: 996.4333251508747\n",
            "Testing RMSE: 4215283766904984.5\n"
          ]
        }
      ]
    },
    {
      "cell_type": "markdown",
      "source": [
        "Again it appears to be overfiting. Linear Regression might not be the best prediction model for this data set."
      ],
      "metadata": {
        "id": "MxhZ5p_Coing"
      }
    },
    {
      "cell_type": "code",
      "source": [
        "from sklearn.tree import DecisionTreeRegressor"
      ],
      "metadata": {
        "id": "n3-Tlbr4opk6"
      },
      "execution_count": 45,
      "outputs": []
    },
    {
      "cell_type": "code",
      "source": [
        "dec_tree = DecisionTreeRegressor(random_state=42)"
      ],
      "metadata": {
        "id": "BYnAvVkhp4en"
      },
      "execution_count": 46,
      "outputs": []
    },
    {
      "cell_type": "code",
      "source": [
        "dec_tree.fit(X_train_processed, y_train)"
      ],
      "metadata": {
        "colab": {
          "base_uri": "https://localhost:8080/",
          "height": 75
        },
        "id": "5OSh9o2EqFde",
        "outputId": "c1c14a1f-787b-4574-e7c2-4a18c62055ef"
      },
      "execution_count": 56,
      "outputs": [
        {
          "output_type": "execute_result",
          "data": {
            "text/plain": [
              "DecisionTreeRegressor(random_state=42)"
            ],
            "text/html": [
              "<style>#sk-9d0db4f2-57c4-43d8-97f9-ea2f36803137 {color: black;background-color: white;}#sk-9d0db4f2-57c4-43d8-97f9-ea2f36803137 pre{padding: 0;}#sk-9d0db4f2-57c4-43d8-97f9-ea2f36803137 div.sk-toggleable {background-color: white;}#sk-9d0db4f2-57c4-43d8-97f9-ea2f36803137 label.sk-toggleable__label {cursor: pointer;display: block;width: 100%;margin-bottom: 0;padding: 0.3em;box-sizing: border-box;text-align: center;}#sk-9d0db4f2-57c4-43d8-97f9-ea2f36803137 label.sk-toggleable__label-arrow:before {content: \"▸\";float: left;margin-right: 0.25em;color: #696969;}#sk-9d0db4f2-57c4-43d8-97f9-ea2f36803137 label.sk-toggleable__label-arrow:hover:before {color: black;}#sk-9d0db4f2-57c4-43d8-97f9-ea2f36803137 div.sk-estimator:hover label.sk-toggleable__label-arrow:before {color: black;}#sk-9d0db4f2-57c4-43d8-97f9-ea2f36803137 div.sk-toggleable__content {max-height: 0;max-width: 0;overflow: hidden;text-align: left;background-color: #f0f8ff;}#sk-9d0db4f2-57c4-43d8-97f9-ea2f36803137 div.sk-toggleable__content pre {margin: 0.2em;color: black;border-radius: 0.25em;background-color: #f0f8ff;}#sk-9d0db4f2-57c4-43d8-97f9-ea2f36803137 input.sk-toggleable__control:checked~div.sk-toggleable__content {max-height: 200px;max-width: 100%;overflow: auto;}#sk-9d0db4f2-57c4-43d8-97f9-ea2f36803137 input.sk-toggleable__control:checked~label.sk-toggleable__label-arrow:before {content: \"▾\";}#sk-9d0db4f2-57c4-43d8-97f9-ea2f36803137 div.sk-estimator input.sk-toggleable__control:checked~label.sk-toggleable__label {background-color: #d4ebff;}#sk-9d0db4f2-57c4-43d8-97f9-ea2f36803137 div.sk-label input.sk-toggleable__control:checked~label.sk-toggleable__label {background-color: #d4ebff;}#sk-9d0db4f2-57c4-43d8-97f9-ea2f36803137 input.sk-hidden--visually {border: 0;clip: rect(1px 1px 1px 1px);clip: rect(1px, 1px, 1px, 1px);height: 1px;margin: -1px;overflow: hidden;padding: 0;position: absolute;width: 1px;}#sk-9d0db4f2-57c4-43d8-97f9-ea2f36803137 div.sk-estimator {font-family: monospace;background-color: #f0f8ff;border: 1px dotted black;border-radius: 0.25em;box-sizing: border-box;margin-bottom: 0.5em;}#sk-9d0db4f2-57c4-43d8-97f9-ea2f36803137 div.sk-estimator:hover {background-color: #d4ebff;}#sk-9d0db4f2-57c4-43d8-97f9-ea2f36803137 div.sk-parallel-item::after {content: \"\";width: 100%;border-bottom: 1px solid gray;flex-grow: 1;}#sk-9d0db4f2-57c4-43d8-97f9-ea2f36803137 div.sk-label:hover label.sk-toggleable__label {background-color: #d4ebff;}#sk-9d0db4f2-57c4-43d8-97f9-ea2f36803137 div.sk-serial::before {content: \"\";position: absolute;border-left: 1px solid gray;box-sizing: border-box;top: 2em;bottom: 0;left: 50%;}#sk-9d0db4f2-57c4-43d8-97f9-ea2f36803137 div.sk-serial {display: flex;flex-direction: column;align-items: center;background-color: white;padding-right: 0.2em;padding-left: 0.2em;}#sk-9d0db4f2-57c4-43d8-97f9-ea2f36803137 div.sk-item {z-index: 1;}#sk-9d0db4f2-57c4-43d8-97f9-ea2f36803137 div.sk-parallel {display: flex;align-items: stretch;justify-content: center;background-color: white;}#sk-9d0db4f2-57c4-43d8-97f9-ea2f36803137 div.sk-parallel::before {content: \"\";position: absolute;border-left: 1px solid gray;box-sizing: border-box;top: 2em;bottom: 0;left: 50%;}#sk-9d0db4f2-57c4-43d8-97f9-ea2f36803137 div.sk-parallel-item {display: flex;flex-direction: column;position: relative;background-color: white;}#sk-9d0db4f2-57c4-43d8-97f9-ea2f36803137 div.sk-parallel-item:first-child::after {align-self: flex-end;width: 50%;}#sk-9d0db4f2-57c4-43d8-97f9-ea2f36803137 div.sk-parallel-item:last-child::after {align-self: flex-start;width: 50%;}#sk-9d0db4f2-57c4-43d8-97f9-ea2f36803137 div.sk-parallel-item:only-child::after {width: 0;}#sk-9d0db4f2-57c4-43d8-97f9-ea2f36803137 div.sk-dashed-wrapped {border: 1px dashed gray;margin: 0 0.4em 0.5em 0.4em;box-sizing: border-box;padding-bottom: 0.4em;background-color: white;position: relative;}#sk-9d0db4f2-57c4-43d8-97f9-ea2f36803137 div.sk-label label {font-family: monospace;font-weight: bold;background-color: white;display: inline-block;line-height: 1.2em;}#sk-9d0db4f2-57c4-43d8-97f9-ea2f36803137 div.sk-label-container {position: relative;z-index: 2;text-align: center;}#sk-9d0db4f2-57c4-43d8-97f9-ea2f36803137 div.sk-container {/* jupyter's `normalize.less` sets `[hidden] { display: none; }` but bootstrap.min.css set `[hidden] { display: none !important; }` so we also need the `!important` here to be able to override the default hidden behavior on the sphinx rendered scikit-learn.org. See: https://github.com/scikit-learn/scikit-learn/issues/21755 */display: inline-block !important;position: relative;}#sk-9d0db4f2-57c4-43d8-97f9-ea2f36803137 div.sk-text-repr-fallback {display: none;}</style><div id=\"sk-9d0db4f2-57c4-43d8-97f9-ea2f36803137\" class=\"sk-top-container\"><div class=\"sk-text-repr-fallback\"><pre>DecisionTreeRegressor(random_state=42)</pre><b>Please rerun this cell to show the HTML repr or trust the notebook.</b></div><div class=\"sk-container\" hidden><div class=\"sk-item\"><div class=\"sk-estimator sk-toggleable\"><input class=\"sk-toggleable__control sk-hidden--visually\" id=\"48d0a0b9-1d24-45a2-b6aa-86cc27984bb4\" type=\"checkbox\" checked><label for=\"48d0a0b9-1d24-45a2-b6aa-86cc27984bb4\" class=\"sk-toggleable__label sk-toggleable__label-arrow\">DecisionTreeRegressor</label><div class=\"sk-toggleable__content\"><pre>DecisionTreeRegressor(random_state=42)</pre></div></div></div></div></div>"
            ]
          },
          "metadata": {},
          "execution_count": 56
        }
      ]
    },
    {
      "cell_type": "code",
      "source": [
        "train_preds = dec_tree.predict(X_train_processed)\n",
        "test_preds = dec_tree.predict(X_test_processed)"
      ],
      "metadata": {
        "id": "WGUx8RWMqVlU"
      },
      "execution_count": 49,
      "outputs": []
    },
    {
      "cell_type": "code",
      "source": [
        "train_score = dec_tree.score(X_train_processed, y_train)\n",
        "test_score = dec_tree.score(X_test_processed, y_test)\n",
        "print(f'Training R2 Score: {train_score}')\n",
        "print(f'Testing R2 Score: {test_score}')"
      ],
      "metadata": {
        "colab": {
          "base_uri": "https://localhost:8080/"
        },
        "id": "P8BLULUfqp1K",
        "outputId": "1cecb80f-d8d1-43e1-b544-15000136c255"
      },
      "execution_count": 53,
      "outputs": [
        {
          "output_type": "stream",
          "name": "stdout",
          "text": [
            "Training R2 Score: 1.0\n",
            "Testing R2 Score: 0.21862282314960235\n"
          ]
        }
      ]
    },
    {
      "cell_type": "markdown",
      "source": [
        "The Data is still overfiting but its doing better than the last model!"
      ],
      "metadata": {
        "id": "tg2bBgKGsLTQ"
      }
    },
    {
      "cell_type": "code",
      "source": [
        "train_RMSE = np.sqrt(np.mean(np.abs(train_preds - y_train)**2))\n",
        "test_RMSE = np.sqrt(np.mean(np.abs(test_preds - y_test)**2))\n",
        "print(f'Training RMSE: {train_RMSE}')\n",
        "print(f'Testing RMSE: {test_RMSE}')"
      ],
      "metadata": {
        "colab": {
          "base_uri": "https://localhost:8080/"
        },
        "id": "Fc0VK2z_sS7Z",
        "outputId": "3c0d47c6-2d7c-4ba2-f631-cdf05683a076"
      },
      "execution_count": 54,
      "outputs": [
        {
          "output_type": "stream",
          "name": "stdout",
          "text": [
            "Training RMSE: 0.0\n",
            "Testing RMSE: 1468.2649230097172\n"
          ]
        }
      ]
    },
    {
      "cell_type": "markdown",
      "source": [
        "This shows again that Decission Tree Regressor is superior for this data set than linear regression."
      ],
      "metadata": {
        "id": "-RhBFHI1svK9"
      }
    },
    {
      "cell_type": "markdown",
      "source": [
        "Decision tree regression is the superior model for this data set. It seems to give more accurate results in comparison to the linear regression model.\n",
        "\n",
        "However I do not think that this model is correct and needs revision. "
      ],
      "metadata": {
        "id": "F1PuxFfus9u2"
      }
    }
  ]
}